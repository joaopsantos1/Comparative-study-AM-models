{
 "cells": [
  {
   "cell_type": "code",
   "execution_count": 1,
   "id": "015e60ac",
   "metadata": {},
   "outputs": [],
   "source": [
    "import pandas as pd\n",
    "import numpy as np\n",
    "import matplotlib.pyplot as plt\n",
    "from sklearn.metrics import mean_absolute_error, mean_squared_error\n",
    "from codecarbon import EmissionsTracker\n",
    "import matplotlib.dates as mdates\n",
    "from sklearn.preprocessing import StandardScaler\n",
    "import torch\n",
    "import torch.nn as nn\n",
    "from tqdm import tqdm\n",
    "from torch.utils.data import TensorDataset, DataLoader"
   ]
  },
  {
   "cell_type": "code",
   "execution_count": 2,
   "id": "b54adaff",
   "metadata": {},
   "outputs": [
    {
     "name": "stdout",
     "output_type": "stream",
     "text": [
      "Using device: cuda\n",
      "CUDA is available!\n",
      "GPU Name: NVIDIA GeForce RTX 4070 Laptop GPU\n",
      "GPU Memory: 8.6 GB\n",
      "Number of GPUs: 1\n",
      "Current GPU: 0\n"
     ]
    },
    {
     "data": {
      "text/plain": [
       "device(type='cuda')"
      ]
     },
     "execution_count": 2,
     "metadata": {},
     "output_type": "execute_result"
    }
   ],
   "source": [
    "device = torch.device(\"cuda\" if torch.cuda.is_available() else \"cpu\")\n",
    "print(f\"Using device: {device}\")\n",
    "\n",
    "if torch.cuda.is_available():\n",
    "    print(f\"CUDA is available!\")\n",
    "    print(f\"GPU Name: {torch.cuda.get_device_name(0)}\")\n",
    "    print(f\"GPU Memory: {torch.cuda.get_device_properties(0).total_memory / 1e9:.1f} GB\")\n",
    "    print(f\"Number of GPUs: {torch.cuda.device_count()}\")\n",
    "    print(f\"Current GPU: {torch.cuda.current_device()}\")\n",
    "    \n",
    "    torch.cuda.empty_cache()\n",
    "    \n",
    "    torch.cuda.set_per_process_memory_fraction(0.5)\n",
    "else:\n",
    "    print(\"CUDA is not available. Using CPU.\")\n",
    "\n",
    "device"
   ]
  },
  {
   "cell_type": "code",
   "execution_count": 3,
   "id": "49a1ccf9",
   "metadata": {},
   "outputs": [
    {
     "data": {
      "text/html": [
       "<div>\n",
       "<style scoped>\n",
       "    .dataframe tbody tr th:only-of-type {\n",
       "        vertical-align: middle;\n",
       "    }\n",
       "\n",
       "    .dataframe tbody tr th {\n",
       "        vertical-align: top;\n",
       "    }\n",
       "\n",
       "    .dataframe thead th {\n",
       "        text-align: right;\n",
       "    }\n",
       "</style>\n",
       "<table border=\"1\" class=\"dataframe\">\n",
       "  <thead>\n",
       "    <tr style=\"text-align: right;\">\n",
       "      <th></th>\n",
       "      <th>PRECIPITAÇÃO TOTAL, HORÁRIO (mm)</th>\n",
       "      <th>PRESSAO ATMOSFERICA AO NIVEL DA ESTACAO, HORARIA (mB)</th>\n",
       "      <th>PRESSÃO ATMOSFERICA MAX.NA HORA ANT. (AUT) (mB)</th>\n",
       "      <th>PRESSÃO ATMOSFERICA MIN. NA HORA ANT. (AUT) (mB)</th>\n",
       "      <th>RADIACAO GLOBAL (Kj/m²)</th>\n",
       "      <th>TEMPERATURA DO AR - BULBO SECO, HORARIA (°C)</th>\n",
       "      <th>TEMPERATURA DO PONTO DE ORVALHO (°C)</th>\n",
       "      <th>TEMPERATURA MÁXIMA NA HORA ANT. (AUT) (°C)</th>\n",
       "      <th>TEMPERATURA MÍNIMA NA HORA ANT. (AUT) (°C)</th>\n",
       "      <th>TEMPERATURA ORVALHO MAX. NA HORA ANT. (AUT) (°C)</th>\n",
       "      <th>TEMPERATURA ORVALHO MIN. NA HORA ANT. (AUT) (°C)</th>\n",
       "      <th>UMIDADE REL. MAX. NA HORA ANT. (AUT) (%)</th>\n",
       "      <th>UMIDADE REL. MIN. NA HORA ANT. (AUT) (%)</th>\n",
       "      <th>UMIDADE RELATIVA DO AR, HORARIA (%)</th>\n",
       "      <th>VENTO, DIREÇÃO HORARIA (gr) (° (gr))</th>\n",
       "      <th>VENTO, RAJADA MAXIMA (m/s)</th>\n",
       "      <th>VENTO, VELOCIDADE HORARIA (m/s)</th>\n",
       "      <th>datetime</th>\n",
       "    </tr>\n",
       "  </thead>\n",
       "  <tbody>\n",
       "    <tr>\n",
       "      <th>0</th>\n",
       "      <td>0.0</td>\n",
       "      <td>1021.400000</td>\n",
       "      <td>1021.400000</td>\n",
       "      <td>1021.100000</td>\n",
       "      <td>0.0</td>\n",
       "      <td>18.200000</td>\n",
       "      <td>15.700000</td>\n",
       "      <td>18.200000</td>\n",
       "      <td>18.0</td>\n",
       "      <td>15.800000</td>\n",
       "      <td>15.40</td>\n",
       "      <td>86.000000</td>\n",
       "      <td>85.0</td>\n",
       "      <td>86.0</td>\n",
       "      <td>28.0</td>\n",
       "      <td>3.8</td>\n",
       "      <td>2.000000</td>\n",
       "      <td>2002-11-08 00:00:00</td>\n",
       "    </tr>\n",
       "    <tr>\n",
       "      <th>1</th>\n",
       "      <td>0.0</td>\n",
       "      <td>1021.900000</td>\n",
       "      <td>1022.000000</td>\n",
       "      <td>1021.400000</td>\n",
       "      <td>0.0</td>\n",
       "      <td>18.500000</td>\n",
       "      <td>16.200000</td>\n",
       "      <td>18.600000</td>\n",
       "      <td>18.2</td>\n",
       "      <td>16.300000</td>\n",
       "      <td>15.70</td>\n",
       "      <td>87.000000</td>\n",
       "      <td>85.0</td>\n",
       "      <td>87.0</td>\n",
       "      <td>348.0</td>\n",
       "      <td>5.9</td>\n",
       "      <td>2.500000</td>\n",
       "      <td>2002-11-08 01:00:00</td>\n",
       "    </tr>\n",
       "    <tr>\n",
       "      <th>2</th>\n",
       "      <td>3.6</td>\n",
       "      <td>1021.700000</td>\n",
       "      <td>1022.500000</td>\n",
       "      <td>1021.700000</td>\n",
       "      <td>0.0</td>\n",
       "      <td>17.800000</td>\n",
       "      <td>15.900000</td>\n",
       "      <td>18.500000</td>\n",
       "      <td>17.6</td>\n",
       "      <td>16.400000</td>\n",
       "      <td>15.40</td>\n",
       "      <td>89.000000</td>\n",
       "      <td>86.0</td>\n",
       "      <td>89.0</td>\n",
       "      <td>17.0</td>\n",
       "      <td>6.1</td>\n",
       "      <td>2.500000</td>\n",
       "      <td>2002-11-08 02:00:00</td>\n",
       "    </tr>\n",
       "    <tr>\n",
       "      <th>3</th>\n",
       "      <td>0.0</td>\n",
       "      <td>1020.900000</td>\n",
       "      <td>1021.700000</td>\n",
       "      <td>1020.900000</td>\n",
       "      <td>0.0</td>\n",
       "      <td>17.400000</td>\n",
       "      <td>15.700000</td>\n",
       "      <td>17.800000</td>\n",
       "      <td>17.4</td>\n",
       "      <td>15.900000</td>\n",
       "      <td>15.70</td>\n",
       "      <td>90.000000</td>\n",
       "      <td>89.0</td>\n",
       "      <td>90.0</td>\n",
       "      <td>29.0</td>\n",
       "      <td>3.0</td>\n",
       "      <td>1.800000</td>\n",
       "      <td>2002-11-08 03:00:00</td>\n",
       "    </tr>\n",
       "    <tr>\n",
       "      <th>4</th>\n",
       "      <td>0.0</td>\n",
       "      <td>1020.300000</td>\n",
       "      <td>1020.800000</td>\n",
       "      <td>1020.300000</td>\n",
       "      <td>0.0</td>\n",
       "      <td>17.200000</td>\n",
       "      <td>15.600000</td>\n",
       "      <td>17.400000</td>\n",
       "      <td>17.2</td>\n",
       "      <td>15.800000</td>\n",
       "      <td>15.60</td>\n",
       "      <td>91.000000</td>\n",
       "      <td>90.0</td>\n",
       "      <td>91.0</td>\n",
       "      <td>2.0</td>\n",
       "      <td>3.9</td>\n",
       "      <td>2.400000</td>\n",
       "      <td>2002-11-08 04:00:00</td>\n",
       "    </tr>\n",
       "    <tr>\n",
       "      <th>...</th>\n",
       "      <td>...</td>\n",
       "      <td>...</td>\n",
       "      <td>...</td>\n",
       "      <td>...</td>\n",
       "      <td>...</td>\n",
       "      <td>...</td>\n",
       "      <td>...</td>\n",
       "      <td>...</td>\n",
       "      <td>...</td>\n",
       "      <td>...</td>\n",
       "      <td>...</td>\n",
       "      <td>...</td>\n",
       "      <td>...</td>\n",
       "      <td>...</td>\n",
       "      <td>...</td>\n",
       "      <td>...</td>\n",
       "      <td>...</td>\n",
       "      <td>...</td>\n",
       "    </tr>\n",
       "    <tr>\n",
       "      <th>414824</th>\n",
       "      <td>0.0</td>\n",
       "      <td>1017.800000</td>\n",
       "      <td>1017.800000</td>\n",
       "      <td>1017.400000</td>\n",
       "      <td>3.7</td>\n",
       "      <td>20.700000</td>\n",
       "      <td>17.900000</td>\n",
       "      <td>20.800000</td>\n",
       "      <td>20.1</td>\n",
       "      <td>17.900000</td>\n",
       "      <td>17.50</td>\n",
       "      <td>85.000000</td>\n",
       "      <td>82.0</td>\n",
       "      <td>84.0</td>\n",
       "      <td>256.0</td>\n",
       "      <td>3.5</td>\n",
       "      <td>0.800000</td>\n",
       "      <td>2025-05-31 21:00:00</td>\n",
       "    </tr>\n",
       "    <tr>\n",
       "      <th>414825</th>\n",
       "      <td>0.0</td>\n",
       "      <td>1018.200000</td>\n",
       "      <td>1018.200000</td>\n",
       "      <td>1017.700000</td>\n",
       "      <td>0.0</td>\n",
       "      <td>21.400000</td>\n",
       "      <td>17.900000</td>\n",
       "      <td>21.400000</td>\n",
       "      <td>20.7</td>\n",
       "      <td>18.000000</td>\n",
       "      <td>17.90</td>\n",
       "      <td>84.000000</td>\n",
       "      <td>80.0</td>\n",
       "      <td>81.0</td>\n",
       "      <td>237.0</td>\n",
       "      <td>6.2</td>\n",
       "      <td>1.600000</td>\n",
       "      <td>2025-05-31 22:00:00</td>\n",
       "    </tr>\n",
       "    <tr>\n",
       "      <th>414826</th>\n",
       "      <td>0.0</td>\n",
       "      <td>1019.088889</td>\n",
       "      <td>1019.088889</td>\n",
       "      <td>1018.533333</td>\n",
       "      <td>0.0</td>\n",
       "      <td>20.009091</td>\n",
       "      <td>18.066667</td>\n",
       "      <td>21.009091</td>\n",
       "      <td>20.2</td>\n",
       "      <td>18.585714</td>\n",
       "      <td>17.35</td>\n",
       "      <td>85.857143</td>\n",
       "      <td>78.0</td>\n",
       "      <td>86.0</td>\n",
       "      <td>47.0</td>\n",
       "      <td>7.6</td>\n",
       "      <td>2.376190</td>\n",
       "      <td>2025-05-31 22:00:00</td>\n",
       "    </tr>\n",
       "    <tr>\n",
       "      <th>414827</th>\n",
       "      <td>0.0</td>\n",
       "      <td>1019.733333</td>\n",
       "      <td>1019.733333</td>\n",
       "      <td>1019.000000</td>\n",
       "      <td>0.0</td>\n",
       "      <td>19.254545</td>\n",
       "      <td>18.300000</td>\n",
       "      <td>20.754545</td>\n",
       "      <td>19.7</td>\n",
       "      <td>18.614286</td>\n",
       "      <td>16.80</td>\n",
       "      <td>86.142857</td>\n",
       "      <td>70.0</td>\n",
       "      <td>89.0</td>\n",
       "      <td>81.0</td>\n",
       "      <td>10.6</td>\n",
       "      <td>6.257143</td>\n",
       "      <td>2025-05-31 23:00:00</td>\n",
       "    </tr>\n",
       "    <tr>\n",
       "      <th>414828</th>\n",
       "      <td>0.0</td>\n",
       "      <td>1018.600000</td>\n",
       "      <td>1018.600000</td>\n",
       "      <td>1018.100000</td>\n",
       "      <td>0.0</td>\n",
       "      <td>21.400000</td>\n",
       "      <td>17.800000</td>\n",
       "      <td>21.400000</td>\n",
       "      <td>21.3</td>\n",
       "      <td>17.900000</td>\n",
       "      <td>17.80</td>\n",
       "      <td>81.000000</td>\n",
       "      <td>80.0</td>\n",
       "      <td>80.0</td>\n",
       "      <td>210.0</td>\n",
       "      <td>4.5</td>\n",
       "      <td>0.800000</td>\n",
       "      <td>2025-05-31 23:00:00</td>\n",
       "    </tr>\n",
       "  </tbody>\n",
       "</table>\n",
       "<p>414829 rows × 18 columns</p>\n",
       "</div>"
      ],
      "text/plain": [
       "        PRECIPITAÇÃO TOTAL, HORÁRIO (mm)  \\\n",
       "0                                    0.0   \n",
       "1                                    0.0   \n",
       "2                                    3.6   \n",
       "3                                    0.0   \n",
       "4                                    0.0   \n",
       "...                                  ...   \n",
       "414824                               0.0   \n",
       "414825                               0.0   \n",
       "414826                               0.0   \n",
       "414827                               0.0   \n",
       "414828                               0.0   \n",
       "\n",
       "        PRESSAO ATMOSFERICA AO NIVEL DA ESTACAO, HORARIA (mB)  \\\n",
       "0                                             1021.400000       \n",
       "1                                             1021.900000       \n",
       "2                                             1021.700000       \n",
       "3                                             1020.900000       \n",
       "4                                             1020.300000       \n",
       "...                                                   ...       \n",
       "414824                                        1017.800000       \n",
       "414825                                        1018.200000       \n",
       "414826                                        1019.088889       \n",
       "414827                                        1019.733333       \n",
       "414828                                        1018.600000       \n",
       "\n",
       "        PRESSÃO ATMOSFERICA MAX.NA HORA ANT. (AUT) (mB)  \\\n",
       "0                                           1021.400000   \n",
       "1                                           1022.000000   \n",
       "2                                           1022.500000   \n",
       "3                                           1021.700000   \n",
       "4                                           1020.800000   \n",
       "...                                                 ...   \n",
       "414824                                      1017.800000   \n",
       "414825                                      1018.200000   \n",
       "414826                                      1019.088889   \n",
       "414827                                      1019.733333   \n",
       "414828                                      1018.600000   \n",
       "\n",
       "        PRESSÃO ATMOSFERICA MIN. NA HORA ANT. (AUT) (mB)  \\\n",
       "0                                            1021.100000   \n",
       "1                                            1021.400000   \n",
       "2                                            1021.700000   \n",
       "3                                            1020.900000   \n",
       "4                                            1020.300000   \n",
       "...                                                  ...   \n",
       "414824                                       1017.400000   \n",
       "414825                                       1017.700000   \n",
       "414826                                       1018.533333   \n",
       "414827                                       1019.000000   \n",
       "414828                                       1018.100000   \n",
       "\n",
       "        RADIACAO GLOBAL (Kj/m²)  TEMPERATURA DO AR - BULBO SECO, HORARIA (°C)  \\\n",
       "0                           0.0                                     18.200000   \n",
       "1                           0.0                                     18.500000   \n",
       "2                           0.0                                     17.800000   \n",
       "3                           0.0                                     17.400000   \n",
       "4                           0.0                                     17.200000   \n",
       "...                         ...                                           ...   \n",
       "414824                      3.7                                     20.700000   \n",
       "414825                      0.0                                     21.400000   \n",
       "414826                      0.0                                     20.009091   \n",
       "414827                      0.0                                     19.254545   \n",
       "414828                      0.0                                     21.400000   \n",
       "\n",
       "        TEMPERATURA DO PONTO DE ORVALHO (°C)  \\\n",
       "0                                  15.700000   \n",
       "1                                  16.200000   \n",
       "2                                  15.900000   \n",
       "3                                  15.700000   \n",
       "4                                  15.600000   \n",
       "...                                      ...   \n",
       "414824                             17.900000   \n",
       "414825                             17.900000   \n",
       "414826                             18.066667   \n",
       "414827                             18.300000   \n",
       "414828                             17.800000   \n",
       "\n",
       "        TEMPERATURA MÁXIMA NA HORA ANT. (AUT) (°C)  \\\n",
       "0                                        18.200000   \n",
       "1                                        18.600000   \n",
       "2                                        18.500000   \n",
       "3                                        17.800000   \n",
       "4                                        17.400000   \n",
       "...                                            ...   \n",
       "414824                                   20.800000   \n",
       "414825                                   21.400000   \n",
       "414826                                   21.009091   \n",
       "414827                                   20.754545   \n",
       "414828                                   21.400000   \n",
       "\n",
       "        TEMPERATURA MÍNIMA NA HORA ANT. (AUT) (°C)  \\\n",
       "0                                             18.0   \n",
       "1                                             18.2   \n",
       "2                                             17.6   \n",
       "3                                             17.4   \n",
       "4                                             17.2   \n",
       "...                                            ...   \n",
       "414824                                        20.1   \n",
       "414825                                        20.7   \n",
       "414826                                        20.2   \n",
       "414827                                        19.7   \n",
       "414828                                        21.3   \n",
       "\n",
       "        TEMPERATURA ORVALHO MAX. NA HORA ANT. (AUT) (°C)  \\\n",
       "0                                              15.800000   \n",
       "1                                              16.300000   \n",
       "2                                              16.400000   \n",
       "3                                              15.900000   \n",
       "4                                              15.800000   \n",
       "...                                                  ...   \n",
       "414824                                         17.900000   \n",
       "414825                                         18.000000   \n",
       "414826                                         18.585714   \n",
       "414827                                         18.614286   \n",
       "414828                                         17.900000   \n",
       "\n",
       "        TEMPERATURA ORVALHO MIN. NA HORA ANT. (AUT) (°C)  \\\n",
       "0                                                  15.40   \n",
       "1                                                  15.70   \n",
       "2                                                  15.40   \n",
       "3                                                  15.70   \n",
       "4                                                  15.60   \n",
       "...                                                  ...   \n",
       "414824                                             17.50   \n",
       "414825                                             17.90   \n",
       "414826                                             17.35   \n",
       "414827                                             16.80   \n",
       "414828                                             17.80   \n",
       "\n",
       "        UMIDADE REL. MAX. NA HORA ANT. (AUT) (%)  \\\n",
       "0                                      86.000000   \n",
       "1                                      87.000000   \n",
       "2                                      89.000000   \n",
       "3                                      90.000000   \n",
       "4                                      91.000000   \n",
       "...                                          ...   \n",
       "414824                                 85.000000   \n",
       "414825                                 84.000000   \n",
       "414826                                 85.857143   \n",
       "414827                                 86.142857   \n",
       "414828                                 81.000000   \n",
       "\n",
       "        UMIDADE REL. MIN. NA HORA ANT. (AUT) (%)  \\\n",
       "0                                           85.0   \n",
       "1                                           85.0   \n",
       "2                                           86.0   \n",
       "3                                           89.0   \n",
       "4                                           90.0   \n",
       "...                                          ...   \n",
       "414824                                      82.0   \n",
       "414825                                      80.0   \n",
       "414826                                      78.0   \n",
       "414827                                      70.0   \n",
       "414828                                      80.0   \n",
       "\n",
       "        UMIDADE RELATIVA DO AR, HORARIA (%)  \\\n",
       "0                                      86.0   \n",
       "1                                      87.0   \n",
       "2                                      89.0   \n",
       "3                                      90.0   \n",
       "4                                      91.0   \n",
       "...                                     ...   \n",
       "414824                                 84.0   \n",
       "414825                                 81.0   \n",
       "414826                                 86.0   \n",
       "414827                                 89.0   \n",
       "414828                                 80.0   \n",
       "\n",
       "        VENTO, DIREÇÃO HORARIA (gr) (° (gr))  VENTO, RAJADA MAXIMA (m/s)  \\\n",
       "0                                       28.0                         3.8   \n",
       "1                                      348.0                         5.9   \n",
       "2                                       17.0                         6.1   \n",
       "3                                       29.0                         3.0   \n",
       "4                                        2.0                         3.9   \n",
       "...                                      ...                         ...   \n",
       "414824                                 256.0                         3.5   \n",
       "414825                                 237.0                         6.2   \n",
       "414826                                  47.0                         7.6   \n",
       "414827                                  81.0                        10.6   \n",
       "414828                                 210.0                         4.5   \n",
       "\n",
       "        VENTO, VELOCIDADE HORARIA (m/s)             datetime  \n",
       "0                              2.000000  2002-11-08 00:00:00  \n",
       "1                              2.500000  2002-11-08 01:00:00  \n",
       "2                              2.500000  2002-11-08 02:00:00  \n",
       "3                              1.800000  2002-11-08 03:00:00  \n",
       "4                              2.400000  2002-11-08 04:00:00  \n",
       "...                                 ...                  ...  \n",
       "414824                         0.800000  2025-05-31 21:00:00  \n",
       "414825                         1.600000  2025-05-31 22:00:00  \n",
       "414826                         2.376190  2025-05-31 22:00:00  \n",
       "414827                         6.257143  2025-05-31 23:00:00  \n",
       "414828                         0.800000  2025-05-31 23:00:00  \n",
       "\n",
       "[414829 rows x 18 columns]"
      ]
     },
     "execution_count": 3,
     "metadata": {},
     "output_type": "execute_result"
    }
   ],
   "source": [
    "arquivos = ['Interpolado_Marambaia.csv', 'Interpolado_VilaMilitar.csv', 'Interpolado_jacarepagua.csv']\n",
    "dfs = [pd.read_csv(a, sep=',', encoding='utf8') for a in arquivos]\n",
    "df = pd.concat(dfs, ignore_index=True)\n",
    "df = df.sort_values(['datetime'], ignore_index=True)\n",
    "df"
   ]
  },
  {
   "cell_type": "code",
   "execution_count": 4,
   "id": "ad45aa91",
   "metadata": {},
   "outputs": [],
   "source": [
    "df['datetime'] = pd.to_datetime(df['datetime'])\n",
    "\n",
    "df['year'] = df['datetime'].dt.year\n",
    "df['month'] = df['datetime'].dt.month\n",
    "df['day'] = df['datetime'].dt.day\n",
    "df['hour'] = df['datetime'].dt.hour\n",
    "df['minute'] = df['datetime'].dt.minute\n",
    "df['second'] = df['datetime'].dt.second\n",
    "\n",
    "input_data = df.drop([\n",
    "    'datetime',\n",
    "    'UMIDADE REL. MAX. NA HORA ANT. (AUT) (%)',\n",
    "    'UMIDADE REL. MIN. NA HORA ANT. (AUT) (%)',\n",
    "    'UMIDADE RELATIVA DO AR, HORARIA (%)'], axis=1)\n",
    "targets = df['UMIDADE RELATIVA DO AR, HORARIA (%)'].values\n",
    "T = 20                   \n",
    "D = input_data.shape[1] \n",
    "N = len(input_data) - T"
   ]
  },
  {
   "cell_type": "code",
   "execution_count": 5,
   "id": "f66e11e9",
   "metadata": {},
   "outputs": [],
   "source": [
    "train_size = int(len(input_data) * 0.80)\n",
    "\n",
    "scaler = StandardScaler()\n",
    "scaler.fit(input_data[:train_size + T - 1])\n",
    "input_data = scaler.transform(input_data)\n",
    "\n",
    "X_train = np.zeros((train_size, T, D))\n",
    "y_train = np.zeros((train_size, 1))\n",
    "\n",
    "for t in range(train_size):\n",
    "  X_train[t, :, :] = input_data[t:t+T]\n",
    "  y_train[t] = (targets[t+T])\n",
    "\n",
    "X_test = np.zeros((N - train_size, T, D))\n",
    "y_test = np.zeros((N - train_size, 1))\n",
    "\n",
    "for i in range(N - train_size):\n",
    "  t = i + train_size\n",
    "  X_test[i, :, :] = input_data[t:t+T]\n",
    "  y_test[i] = (targets[t+T])\n",
    "\n",
    "X_train = torch.from_numpy(X_train.astype(np.float32))\n",
    "y_train = torch.from_numpy(y_train.astype(np.float32))\n",
    "X_test = torch.from_numpy(X_test.astype(np.float32))\n",
    "y_test = torch.from_numpy(y_test.astype(np.float32))"
   ]
  },
  {
   "cell_type": "code",
   "execution_count": 6,
   "id": "b1713f55",
   "metadata": {},
   "outputs": [],
   "source": [
    "class LSTM(nn.Module):\n",
    "  def __init__(self, input_dim, hidden_dim, layer_dim, output_dim):\n",
    "    super(LSTM, self).__init__()\n",
    "    self.M = hidden_dim\n",
    "    self.L = layer_dim\n",
    "\n",
    "    self.rnn = nn.LSTM(\n",
    "        input_size=input_dim,\n",
    "        hidden_size=hidden_dim,\n",
    "        num_layers=layer_dim,\n",
    "        batch_first=True)\n",
    "    self.fc = nn.Linear(hidden_dim, output_dim)\n",
    "\n",
    "  def forward(self, X):\n",
    "    device = X.device\n",
    "    h0 = torch.zeros(self.L, X.size(0), self.M).to(device)\n",
    "    c0 = torch.zeros(self.L, X.size(0), self.M).to(device)\n",
    "\n",
    "    out, (hn, cn) = self.rnn(X, (h0.detach(), c0.detach()))\n",
    "\n",
    "    out = self.fc(out[:, -1, :])\n",
    "    return out"
   ]
  },
  {
   "cell_type": "code",
   "execution_count": 7,
   "id": "f79c9496",
   "metadata": {},
   "outputs": [],
   "source": [
    "model = LSTM(input_dim=D, hidden_dim=256, layer_dim=2, output_dim=1)\n",
    "criterion = nn.MSELoss()\n",
    "optimizer = torch.optim.Adam(model.parameters(), lr=0.01)"
   ]
  },
  {
   "cell_type": "code",
   "execution_count": 8,
   "id": "bf705ed6",
   "metadata": {},
   "outputs": [],
   "source": [
    "def train(model, learning_rate, X_train, y_train, X_test, y_test, epochs=100, batch_size=32):\n",
    "    device = torch.device(\"cuda\" if torch.cuda.is_available() else \"cpu\")\n",
    "    model.to(device)\n",
    "\n",
    "    criterion = nn.MSELoss()\n",
    "    optimizer = torch.optim.Adam(model.parameters(), lr=learning_rate, weight_decay=1e-5)\n",
    "\n",
    "    train_dataset = TensorDataset(X_train, y_train)\n",
    "    test_dataset = TensorDataset(X_test, y_test)\n",
    "    \n",
    "    train_loader = DataLoader(train_dataset, batch_size=batch_size, shuffle=True)\n",
    "    test_loader = DataLoader(test_dataset, batch_size=batch_size, shuffle=False)\n",
    "\n",
    "    train_losses = []\n",
    "    test_losses = []\n",
    "\n",
    "    for epoch in range(epochs):\n",
    "        model.train()\n",
    "        running_loss = 0.0\n",
    "\n",
    "        for inputs, labels in tqdm(train_loader, desc=f\"Epoch {epoch+1}/{epochs}\", leave=False):\n",
    "            inputs, labels = inputs.to(device), labels.to(device)\n",
    "\n",
    "            optimizer.zero_grad()\n",
    "            outputs = model(inputs)\n",
    "            loss = criterion(outputs, labels)\n",
    "            loss.backward()\n",
    "            optimizer.step()\n",
    "\n",
    "            running_loss += loss.item() * inputs.size(0)\n",
    "\n",
    "        epoch_loss = running_loss / len(train_loader.dataset)\n",
    "        train_losses.append(epoch_loss)\n",
    "\n",
    "        model.eval()\n",
    "        test_loss = 0.0\n",
    "        with torch.no_grad():\n",
    "            for inputs, labels in test_loader:\n",
    "                inputs, labels = inputs.to(device), labels.to(device)\n",
    "                outputs = model(inputs)\n",
    "                loss = criterion(outputs, labels)\n",
    "                test_loss += loss.item() * inputs.size(0)\n",
    "\n",
    "        test_loss /= len(test_loader.dataset)\n",
    "        test_losses.append(test_loss)\n",
    "\n",
    "        print(f\"Epoch [{epoch+1}/{epochs}] — Train Loss: {epoch_loss:.4f}, Test Loss: {test_loss:.4f}\")\n",
    "\n",
    "    return train_losses, test_losses"
   ]
  },
  {
   "cell_type": "code",
   "execution_count": 13,
   "id": "9c16b183",
   "metadata": {},
   "outputs": [],
   "source": [
    "def plot_dispersion(model, X_test, y_test, batch_size=32):\n",
    "    model.eval()\n",
    "    device = next(model.parameters()).device\n",
    "    \n",
    "    if torch.cuda.is_available():\n",
    "        torch.cuda.empty_cache()\n",
    "    \n",
    "    predictions = []\n",
    "    with torch.no_grad():\n",
    "        for i in range(0, len(X_test), batch_size):\n",
    "            batch_X = X_test[i:i+batch_size].to(device)\n",
    "            batch_pred = model(batch_X).cpu()\n",
    "            predictions.append(batch_pred)\n",
    "            \n",
    "            if torch.cuda.is_available():\n",
    "                torch.cuda.empty_cache()\n",
    "    \n",
    "    y_pred = torch.cat(predictions, dim=0)\n",
    "    y_true_np = y_test.cpu().numpy().flatten()\n",
    "    y_pred_np = y_pred.numpy().flatten()\n",
    "\n",
    "    plt.figure(figsize=(8, 8))\n",
    "    plt.scatter(y_true_np, y_pred_np, alpha=0.7, color='blue')\n",
    "    plt.xlabel('True Values')\n",
    "    plt.ylabel('Predicted Values')\n",
    "    plt.title('Dispersion Plot: True vs Predicted')\n",
    "    plt.grid(True)\n",
    "    plt.plot([y_true_np.min(), y_true_np.max()], [y_true_np.min(), y_true_np.max()], 'r--')\n",
    "    plt.tight_layout()\n",
    "    plt.show()"
   ]
  },
  {
   "cell_type": "code",
   "execution_count": 9,
   "id": "89b669b9",
   "metadata": {},
   "outputs": [],
   "source": [
    "def return_rmse(model, X_test, y_test, batch_size=32):\n",
    "    model.eval()\n",
    "    device = next(model.parameters()).device\n",
    "    \n",
    "    if torch.cuda.is_available():\n",
    "        torch.cuda.empty_cache()\n",
    "    \n",
    "    predictions = []\n",
    "    with torch.no_grad():\n",
    "        for i in range(0, len(X_test), batch_size):\n",
    "            batch_X = X_test[i:i+batch_size].to(device)\n",
    "            batch_pred = model(batch_X).cpu()\n",
    "            predictions.append(batch_pred)\n",
    "            \n",
    "            if torch.cuda.is_available():\n",
    "                torch.cuda.empty_cache()\n",
    "    \n",
    "    y_pred = torch.cat(predictions, dim=0)\n",
    "    y_true_np = y_test.cpu().numpy().flatten()\n",
    "    y_pred_np = y_pred.numpy().flatten()\n",
    "\n",
    "    rmse = np.sqrt(mean_squared_error(y_true_np, y_pred_np))\n",
    "    return rmse"
   ]
  },
  {
   "cell_type": "code",
   "execution_count": 10,
   "id": "c63c17bb",
   "metadata": {},
   "outputs": [
    {
     "name": "stderr",
     "output_type": "stream",
     "text": [
      "[codecarbon WARNING @ 13:50:11] Multiple instances of codecarbon are allowed to run at the same time.\n",
      "                                                                \r"
     ]
    },
    {
     "name": "stdout",
     "output_type": "stream",
     "text": [
      "Epoch [1/25] — Train Loss: 330.3338, Test Loss: 340.3768\n"
     ]
    },
    {
     "name": "stderr",
     "output_type": "stream",
     "text": [
      "                                                                \r"
     ]
    },
    {
     "name": "stdout",
     "output_type": "stream",
     "text": [
      "Epoch [2/25] — Train Loss: 127.4137, Test Loss: 318.9756\n"
     ]
    },
    {
     "name": "stderr",
     "output_type": "stream",
     "text": [
      "                                                                \r"
     ]
    },
    {
     "name": "stdout",
     "output_type": "stream",
     "text": [
      "Epoch [3/25] — Train Loss: 92.8996, Test Loss: 313.2622\n"
     ]
    },
    {
     "name": "stderr",
     "output_type": "stream",
     "text": [
      "                                                                \r"
     ]
    },
    {
     "name": "stdout",
     "output_type": "stream",
     "text": [
      "Epoch [4/25] — Train Loss: 101.1197, Test Loss: 342.9193\n"
     ]
    },
    {
     "name": "stderr",
     "output_type": "stream",
     "text": [
      "                                                                \r"
     ]
    },
    {
     "name": "stdout",
     "output_type": "stream",
     "text": [
      "Epoch [5/25] — Train Loss: 124.4140, Test Loss: 340.6295\n"
     ]
    },
    {
     "name": "stderr",
     "output_type": "stream",
     "text": [
      "                                                                \r"
     ]
    },
    {
     "name": "stdout",
     "output_type": "stream",
     "text": [
      "Epoch [6/25] — Train Loss: 132.2926, Test Loss: 343.1400\n"
     ]
    },
    {
     "name": "stderr",
     "output_type": "stream",
     "text": [
      "                                                                \r"
     ]
    },
    {
     "name": "stdout",
     "output_type": "stream",
     "text": [
      "Epoch [7/25] — Train Loss: 128.5415, Test Loss: 337.7273\n"
     ]
    },
    {
     "name": "stderr",
     "output_type": "stream",
     "text": [
      "                                                                \r"
     ]
    },
    {
     "name": "stdout",
     "output_type": "stream",
     "text": [
      "Epoch [8/25] — Train Loss: 123.1631, Test Loss: 335.4157\n"
     ]
    },
    {
     "name": "stderr",
     "output_type": "stream",
     "text": [
      "                                                                \r"
     ]
    },
    {
     "name": "stdout",
     "output_type": "stream",
     "text": [
      "Epoch [9/25] — Train Loss: 121.9254, Test Loss: 335.9721\n"
     ]
    },
    {
     "name": "stderr",
     "output_type": "stream",
     "text": [
      "                                                                 \r"
     ]
    },
    {
     "name": "stdout",
     "output_type": "stream",
     "text": [
      "Epoch [10/25] — Train Loss: 125.1595, Test Loss: 336.8816\n"
     ]
    },
    {
     "name": "stderr",
     "output_type": "stream",
     "text": [
      "                                                                 \r"
     ]
    },
    {
     "name": "stdout",
     "output_type": "stream",
     "text": [
      "Epoch [11/25] — Train Loss: 120.3230, Test Loss: 335.4553\n"
     ]
    },
    {
     "name": "stderr",
     "output_type": "stream",
     "text": [
      "                                                                 \r"
     ]
    },
    {
     "name": "stdout",
     "output_type": "stream",
     "text": [
      "Epoch [12/25] — Train Loss: 120.8481, Test Loss: 340.7006\n"
     ]
    },
    {
     "name": "stderr",
     "output_type": "stream",
     "text": [
      "                                                                 \r"
     ]
    },
    {
     "name": "stdout",
     "output_type": "stream",
     "text": [
      "Epoch [13/25] — Train Loss: 121.8182, Test Loss: 336.0378\n"
     ]
    },
    {
     "name": "stderr",
     "output_type": "stream",
     "text": [
      "                                                                 \r"
     ]
    },
    {
     "name": "stdout",
     "output_type": "stream",
     "text": [
      "Epoch [14/25] — Train Loss: 126.1076, Test Loss: 339.7549\n"
     ]
    },
    {
     "name": "stderr",
     "output_type": "stream",
     "text": [
      "                                                                 \r"
     ]
    },
    {
     "name": "stdout",
     "output_type": "stream",
     "text": [
      "Epoch [15/25] — Train Loss: 123.2677, Test Loss: 331.9211\n"
     ]
    },
    {
     "name": "stderr",
     "output_type": "stream",
     "text": [
      "                                                                 \r"
     ]
    },
    {
     "name": "stdout",
     "output_type": "stream",
     "text": [
      "Epoch [16/25] — Train Loss: 124.8973, Test Loss: 335.4547\n"
     ]
    },
    {
     "name": "stderr",
     "output_type": "stream",
     "text": [
      "                                                                 \r"
     ]
    },
    {
     "name": "stdout",
     "output_type": "stream",
     "text": [
      "Epoch [17/25] — Train Loss: 126.2494, Test Loss: 331.9170\n"
     ]
    },
    {
     "name": "stderr",
     "output_type": "stream",
     "text": [
      "                                                                 \r"
     ]
    },
    {
     "name": "stdout",
     "output_type": "stream",
     "text": [
      "Epoch [18/25] — Train Loss: 127.9603, Test Loss: 324.9290\n"
     ]
    },
    {
     "name": "stderr",
     "output_type": "stream",
     "text": [
      "                                                                 \r"
     ]
    },
    {
     "name": "stdout",
     "output_type": "stream",
     "text": [
      "Epoch [19/25] — Train Loss: 124.3106, Test Loss: 330.2236\n"
     ]
    },
    {
     "name": "stderr",
     "output_type": "stream",
     "text": [
      "                                                                 \r"
     ]
    },
    {
     "name": "stdout",
     "output_type": "stream",
     "text": [
      "Epoch [20/25] — Train Loss: 126.9938, Test Loss: 329.6454\n"
     ]
    },
    {
     "name": "stderr",
     "output_type": "stream",
     "text": [
      "                                                                 \r"
     ]
    },
    {
     "name": "stdout",
     "output_type": "stream",
     "text": [
      "Epoch [21/25] — Train Loss: 125.5525, Test Loss: 330.7920\n"
     ]
    },
    {
     "name": "stderr",
     "output_type": "stream",
     "text": [
      "                                                                 \r"
     ]
    },
    {
     "name": "stdout",
     "output_type": "stream",
     "text": [
      "Epoch [22/25] — Train Loss: 126.1772, Test Loss: 332.7439\n"
     ]
    },
    {
     "name": "stderr",
     "output_type": "stream",
     "text": [
      "                                                                 \r"
     ]
    },
    {
     "name": "stdout",
     "output_type": "stream",
     "text": [
      "Epoch [23/25] — Train Loss: 129.0999, Test Loss: 337.6846\n"
     ]
    },
    {
     "name": "stderr",
     "output_type": "stream",
     "text": [
      "                                                                 \r"
     ]
    },
    {
     "name": "stdout",
     "output_type": "stream",
     "text": [
      "Epoch [24/25] — Train Loss: 130.4313, Test Loss: 333.0558\n"
     ]
    },
    {
     "name": "stderr",
     "output_type": "stream",
     "text": [
      "                                                                 \r"
     ]
    },
    {
     "name": "stdout",
     "output_type": "stream",
     "text": [
      "Epoch [25/25] — Train Loss: 127.7632, Test Loss: 336.4585\n",
      "emissions=0.0013999612434365363\n"
     ]
    }
   ],
   "source": [
    "tracker = EmissionsTracker(\n",
    "    project_name=\"UMIDADE lstm\",\n",
    "    output_file='codecarbon_emission_lstm.csv',\n",
    "    log_level = \"critical\"\n",
    ")\n",
    "\n",
    "tracker.start()\n",
    "\n",
    "train_losses, test_losses = train(\n",
    "    model,\n",
    "    learning_rate=0.01,\n",
    "    X_train=X_train,\n",
    "    y_train=y_train,\n",
    "    X_test=X_test,\n",
    "    y_test=y_test,\n",
    "    epochs=25,\n",
    "    batch_size=64\n",
    ")\n",
    "\n",
    "emissions: float = tracker.stop()\n",
    "print(f\"emissions={emissions}\")"
   ]
  },
  {
   "cell_type": "code",
   "execution_count": 14,
   "id": "3e54d0bf",
   "metadata": {},
   "outputs": [
    {
     "data": {
      "image/png": "[encoded data removed]",
      "text/plain": [
       "<Figure size 800x800 with 1 Axes>"
      ]
     },
     "metadata": {},
     "output_type": "display_data"
    }
   ],
   "source": [
    "plot_dispersion(model, X_test, y_test)\n"
   ]
  },
  {
   "cell_type": "code",
   "execution_count": 15,
   "id": "f02aa1c2",
   "metadata": {},
   "outputs": [],
   "source": [
    "def print_rmse(model, X_test, y_test, batch_size=32):\n",
    "    model.eval()\n",
    "    device = next(model.parameters()).device\n",
    "    \n",
    "    if torch.cuda.is_available():\n",
    "        torch.cuda.empty_cache()\n",
    "    \n",
    "    predictions = []\n",
    "    with torch.no_grad():\n",
    "        for i in range(0, len(X_test), batch_size):\n",
    "            batch_X = X_test[i:i+batch_size].to(device)\n",
    "            batch_pred = model(batch_X).cpu()\n",
    "            predictions.append(batch_pred)\n",
    "            \n",
    "            if torch.cuda.is_available():\n",
    "                torch.cuda.empty_cache()\n",
    "    \n",
    "    y_pred = torch.cat(predictions, dim=0)\n",
    "    y_true_np = y_test.cpu().numpy().flatten()\n",
    "    y_pred_np = y_pred.numpy().flatten()\n",
    "\n",
    "    rmse = np.sqrt(mean_squared_error(y_true_np, y_pred_np))\n",
    "    print(f\"RMSE: {rmse:.4f}\")"
   ]
  },
  {
   "cell_type": "code",
   "execution_count": 16,
   "id": "7afa24ac",
   "metadata": {},
   "outputs": [
    {
     "name": "stdout",
     "output_type": "stream",
     "text": [
      "RMSE: 18.3428\n"
     ]
    }
   ],
   "source": [
    "print_rmse(model, X_test, y_test)\n"
   ]
  }
 ],
 "metadata": {
  "kernelspec": {
   "display_name": "Python 3",
   "language": "python",
   "name": "python3"
  },
  "language_info": {
   "codemirror_mode": {
    "name": "ipython",
    "version": 3
   },
   "file_extension": ".py",
   "mimetype": "text/x-python",
   "name": "python",
   "nbconvert_exporter": "python",
   "pygments_lexer": "ipython3",
   "version": "3.13.5"
  }
 },
 "nbformat": 4,
 "nbformat_minor": 5
}
